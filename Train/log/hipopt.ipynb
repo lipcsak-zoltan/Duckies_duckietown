{
 "cells": [
  {
   "cell_type": "code",
   "execution_count": 1,
   "metadata": {},
   "outputs": [
    {
     "name": "stderr",
     "output_type": "stream",
     "text": [
      "/home/axelk/.local/lib/python3.10/site-packages/tqdm/auto.py:22: TqdmWarning: IProgress not found. Please update jupyter and ipywidgets. See https://ipywidgets.readthedocs.io/en/stable/user_install.html\n",
      "  from .autonotebook import tqdm as notebook_tqdm\n"
     ]
    }
   ],
   "source": [ 
    "#This is the ipynb of hyperparameter optimalization for the velocity model. Sadly, the Wandb logging did not work, so see hipopt.html for the loggad data"
    "\n",
    "\n",
    "from ray import tune \n",
    "from ray import tune, air\n",
    "from ray.air import session\n",
    "from ray.tune.search.optuna import OptunaSearch\n",
    "import optuna\n",
    "import initialize \n",
    "import model\n",
    "from PIL import Image\n",
    "import numpy as np\n",
    "from torchvision import transforms \n",
    "import torchvision\n",
    "import torch\n",
    "import ray\n",
    "import torch.optim as optim\n",
    "\n",
    "device = torch.device(\"cpu\")\n",
    "import wandb\n"
   ]
  },
  {
   "cell_type": "code",
   "execution_count": 2,
   "metadata": {},
   "outputs": [],
   "source": [
    "def train_velmodel(model_vel,optimizer_vel,trainloader_vel, criterion, testloader_vel):\n",
    "    out=0\n",
    "    for epochs in range(5): \n",
    "        running_loss = 0.0\n",
    "        for i, data in enumerate(trainloader_vel, 0):\n",
    "            # get the inputs; data is a list of [inputs, labels]\n",
    "            x_train, y_train = data[0], data[1]\n",
    "            # zero the parameter gradients\n",
    "            optimizer_vel.zero_grad()\n",
    "\n",
    "            # forward + backward + optimize\n",
    "            outputs = model_vel(x_train)\n",
    "            loss = criterion(outputs, y_train)\n",
    "            loss.backward()\n",
    "            optimizer_vel.step()\n",
    "\n",
    "            # print statistics\n",
    "            running_loss += loss.item()\n",
    "            if i % 1000 == 999:    \n",
    "                print(f'[{epochs + 1}, {i + 1:5d}] loss: {running_loss / 10:.3f}')\n",
    "                running_loss = 0.0\n",
    "                correct = 0\n",
    "                total = 0\n",
    "                with torch.no_grad():\n",
    "                    for data2 in testloader_vel:\n",
    "                        x_test, y_test = data2[0].to(device), data2[1].to(device)   \n",
    "                        outputs = model_vel(x_test)\n",
    "                        _, predicted = torch.max(outputs.data,1)\n",
    "                        _,right=torch.max(y_test,1)\n",
    "                        total += y_test.size(0)\n",
    "                        correct += (predicted == right).sum().item()\n",
    "                        #print(f'Accuracy of the network on the 2000 test images: {100*correct // total} %')\n",
    "                        out=correct/total\n",
    "    \n",
    "    return out \n"
   ]
  },
  {
   "cell_type": "code",
   "execution_count": 3,
   "metadata": {},
   "outputs": [],
   "source": [
    "\n",
    "def train_angmodel(model_ang,trainloader_ang, optimizer_ang,criterion):\n",
    "    for epochs in range(10): \n",
    "        running_loss = 0.0\n",
    "        for i, data in enumerate(trainloader_ang, 0):\n",
    "            # get the inputs; data is a list of [inputs, labels]\n",
    "            x_train, y_train2 = data[0].to(device), data[1].to(device)\n",
    "            # zero the parameter gradients\n",
    "            optimizer_ang.zero_grad()\n",
    "\n",
    "            # forward + backward + optimize\n",
    "            outputs = model_ang(x_train)\n",
    "        \n",
    "            loss = criterion(outputs, y_train2)\n",
    "            loss.backward()\n",
    "            optimizer_ang.step()\n",
    "\n",
    "            # print statistics\n",
    "            running_loss += loss.item()\n",
    "            if i % 10 == 9:    # print every 2000 mini-batches\n",
    "                print(f'[{epochs + 1}, {i + 1:5d}] loss: {running_loss / 10:.3f}')\n",
    "                running_loss = 0.0\n",
    "                correct = 0\n",
    "                total = 0\n",
    "\n",
    "    path=\"/home/axelk/Documents/DL/angle.pth\"\n",
    "    torch.save(model_ang,path )"
   ]
  },
  {
   "cell_type": "code",
   "execution_count": 4,
   "metadata": {},
   "outputs": [
    {
     "data": {
      "text/plain": [
       "'\"\\ndef objective(config):\\n    trainloader_vel, k = initialize.load_data(100,32, True)\\n    testloader_vel, k2= initialize.load_data(100,32, False)\\n    model_vel = model.veloCNN().to(\"cpu\")\\n\\n    criterion=torch.nn.CrossEntropyLoss()\\n\\n    optimizer_vel = torch.optim.SGD( model_vel.parameters(), lr=config[\"lr\"], momentum=config[\"momentum\"])\\n\\n    while True:\\n        acc = train_velmodel(model_vel, optimizer_vel, trainloader_vel,criterion,testloader_vel)  # Train the model\\n        session.report({\"mean_accuracy\": acc})  # Report to Tune\\n'"
      ]
     },
     "execution_count": 4,
     "metadata": {},
     "output_type": "execute_result"
    }
   ],
   "source": [
    "\"\"\"\"\n",
    "def objective(config):\n",
    "    trainloader_vel, k = initialize.load_data(100,32, True)\n",
    "    testloader_vel, k2= initialize.load_data(100,32, False)\n",
    "    model_vel = model.veloCNN().to(\"cpu\")\n",
    "\n",
    "    criterion=torch.nn.CrossEntropyLoss()\n",
    "\n",
    "    optimizer_vel = torch.optim.SGD( model_vel.parameters(), lr=config[\"lr\"], momentum=config[\"momentum\"])\n",
    "\n",
    "    while True:\n",
    "        acc = train_velmodel(model_vel, optimizer_vel, trainloader_vel,criterion,testloader_vel)  # Train the model\n",
    "        session.report({\"mean_accuracy\": acc})  # Report to Tune\n",
    "\"\"\""
   ]
  },
  {
   "cell_type": "code",
   "execution_count": 5,
   "metadata": {},
   "outputs": [
    {
     "data": {
      "text/plain": [
       "'\\nsearch_space = {\"lr\": tune.loguniform(1e-4, 2e-1), \"momentum\": tune.uniform(0.1, 0.9)}\\nalgo = OptunaSearch()\\n'"
      ]
     },
     "execution_count": 5,
     "metadata": {},
     "output_type": "execute_result"
    }
   ],
   "source": [
    "\"\"\"\n",
    "search_space = {\"lr\": tune.loguniform(1e-4, 2e-1), \"momentum\": tune.uniform(0.1, 0.9)}\n",
    "algo = OptunaSearch()\n",
    "\"\"\""
   ]
  },
  {
   "cell_type": "code",
   "execution_count": 6,
   "metadata": {},
   "outputs": [
    {
     "data": {
      "text/plain": [
       "'\"\\ntuner = tune.Tuner(\\n    \\n    objective,\\n    tune_config=tune.TuneConfig(\\n        metric=\"mean_accuracy\",\\n        mode=\"max\",\\n        search_alg=algo,\\n    ),\\n    run_config=air.RunConfig(\\n        stop={\"training_iteration\": 5},\\n    ),\\n    param_space=search_space,\\n\\n)\\nresults = tuner.fit()\\nprint(\"Best config is:\", results.get_best_result().config)\\n\\n'"
      ]
     },
     "execution_count": 6,
     "metadata": {},
     "output_type": "execute_result"
    }
   ],
   "source": [
    "\n",
    "\"\"\"\"\n",
    "tuner = tune.Tuner(\n",
    "    \n",
    "    objective,\n",
    "    tune_config=tune.TuneConfig(\n",
    "        metric=\"mean_accuracy\",\n",
    "        mode=\"max\",\n",
    "        search_alg=algo,\n",
    "    ),\n",
    "    run_config=air.RunConfig(\n",
    "        stop={\"training_iteration\": 5},\n",
    "    ),\n",
    "    param_space=search_space,\n",
    "\n",
    ")\n",
    "results = tuner.fit()\n",
    "print(\"Best config is:\", results.get_best_result().config)\n",
    "\n",
    "\"\"\""
   ]
  },
  {
   "cell_type": "code",
   "execution_count": 7,
   "metadata": {},
   "outputs": [
    {
     "name": "stderr",
     "output_type": "stream",
     "text": [
      "2022-12-11 16:26:55,138\tINFO worker.py:1528 -- Started a local Ray instance.\n"
     ]
    }
   ],
   "source": [
    "\n",
    "ray.init(num_cpus=2)\n",
    "num_evaluations = 50\n",
    "def generate_hyperparameters():\n",
    "    return { \"learning_rate\": 10 ** np.random.uniform(-4, 1),\n",
    "        \"learning_rate\":tune.loguniform(5e-3, 2e-1),\n",
    "        \"batch_size\": np.random.randint(1, 100),\n",
    "        \"momentum\": np.random.uniform(0, 1),\n",
    "    }\n"
   ]
  },
  {
   "cell_type": "code",
   "execution_count": 8,
   "metadata": {},
   "outputs": [],
   "source": [
    "@ray.remote(num_cpus=2)\n",
    "def evaluate_hyperparameters(config):\n",
    "    modelv =model.veloCNN()\n",
    "    train_loader, k1 = initialize.load_data(config[\"batch_size\"],config[\"batch_size\"],True)\n",
    "    test_loader, k2 = initialize.load_data(config[\"batch_size\"],config[\"batch_size\"],False)\n",
    "    optimizer = optim.SGD(\n",
    "        modelv.parameters(), lr=np.abs(config[\"learning_rate\"]), momentum=config[\"momentum\"]\n",
    "    )\n",
    "    criterion=torch.nn.CrossEntropyLoss()\n",
    "    acc = 0.0\n",
    "    acc = train_velmodel(modelv, optimizer, train_loader,criterion,test_loader)\n",
    "    return acc"
   ]
  },
  {
   "cell_type": "code",
   "execution_count": 9,
   "metadata": {},
   "outputs": [
    {
     "name": "stdout",
     "output_type": "stream",
     "text": [
      "\u001b[2m\u001b[36m(evaluate_hyperparameters pid=510347)\u001b[0m (15996, 3, 75, 100)\n",
      "\u001b[2m\u001b[36m(evaluate_hyperparameters pid=510347)\u001b[0m (15996, 4)\n",
      "\u001b[2m\u001b[36m(evaluate_hyperparameters pid=510347)\u001b[0m (15996, 3)\n",
      "\u001b[2m\u001b[36m(evaluate_hyperparameters pid=510347)\u001b[0m (2001, 3, 75, 100)\n",
      "\u001b[2m\u001b[36m(evaluate_hyperparameters pid=510347)\u001b[0m (2001, 4)\n",
      "\u001b[2m\u001b[36m(evaluate_hyperparameters pid=510347)\u001b[0m (2001, 3)\n"
     ]
    },
    {
     "ename": "RayTaskError(TypeError)",
     "evalue": "\u001b[36mray::evaluate_hyperparameters()\u001b[39m (pid=510347, ip=192.168.0.107)\n  File \"/tmp/ipykernel_509914/976435458.py\", line 6, in evaluate_hyperparameters\n  File \"/home/axelk/.local/lib/python3.10/site-packages/torch/optim/sgd.py\", line 96, in __init__\n    if lr is not required and lr < 0.0:\nTypeError: '<' not supported between instances of 'Float' and 'float'",
     "output_type": "error",
     "traceback": [
      "\u001b[0;31m---------------------------------------------------------------------------\u001b[0m",
      "\u001b[0;31mRayTaskError(TypeError)\u001b[0m                   Traceback (most recent call last)",
      "Cell \u001b[0;32mIn [9], line 19\u001b[0m\n\u001b[1;32m     16\u001b[0m result_id \u001b[39m=\u001b[39m done_ids[\u001b[39m0\u001b[39m]\n\u001b[1;32m     18\u001b[0m hyperparameters \u001b[39m=\u001b[39m hyperparameters_mapping[result_id]\n\u001b[0;32m---> 19\u001b[0m accuracy \u001b[39m=\u001b[39m ray\u001b[39m.\u001b[39mget(result_id)\n\u001b[1;32m     20\u001b[0m \u001b[39mprint\u001b[39m(\n\u001b[1;32m     21\u001b[0m     \u001b[39m\"\"\"We achieve accuracy {:.3}% with\u001b[39;00m\n\u001b[1;32m     22\u001b[0m \u001b[39m    learning_rate: {:.2}\u001b[39;00m\n\u001b[0;32m   (...)\u001b[0m\n\u001b[1;32m     30\u001b[0m     )\n\u001b[1;32m     31\u001b[0m )\n\u001b[1;32m     32\u001b[0m \u001b[39mif\u001b[39;00m accuracy\u001b[39m>\u001b[39m best_accuracy:\n",
      "File \u001b[0;32m~/.local/lib/python3.10/site-packages/ray/_private/client_mode_hook.py:105\u001b[0m, in \u001b[0;36mclient_mode_hook.<locals>.wrapper\u001b[0;34m(*args, **kwargs)\u001b[0m\n\u001b[1;32m    103\u001b[0m     \u001b[39mif\u001b[39;00m func\u001b[39m.\u001b[39m\u001b[39m__name__\u001b[39m \u001b[39m!=\u001b[39m \u001b[39m\"\u001b[39m\u001b[39minit\u001b[39m\u001b[39m\"\u001b[39m \u001b[39mor\u001b[39;00m is_client_mode_enabled_by_default:\n\u001b[1;32m    104\u001b[0m         \u001b[39mreturn\u001b[39;00m \u001b[39mgetattr\u001b[39m(ray, func\u001b[39m.\u001b[39m\u001b[39m__name__\u001b[39m)(\u001b[39m*\u001b[39margs, \u001b[39m*\u001b[39m\u001b[39m*\u001b[39mkwargs)\n\u001b[0;32m--> 105\u001b[0m \u001b[39mreturn\u001b[39;00m func(\u001b[39m*\u001b[39;49margs, \u001b[39m*\u001b[39;49m\u001b[39m*\u001b[39;49mkwargs)\n",
      "File \u001b[0;32m~/.local/lib/python3.10/site-packages/ray/_private/worker.py:2289\u001b[0m, in \u001b[0;36mget\u001b[0;34m(object_refs, timeout)\u001b[0m\n\u001b[1;32m   2287\u001b[0m     worker\u001b[39m.\u001b[39mcore_worker\u001b[39m.\u001b[39mdump_object_store_memory_usage()\n\u001b[1;32m   2288\u001b[0m \u001b[39mif\u001b[39;00m \u001b[39misinstance\u001b[39m(value, RayTaskError):\n\u001b[0;32m-> 2289\u001b[0m     \u001b[39mraise\u001b[39;00m value\u001b[39m.\u001b[39mas_instanceof_cause()\n\u001b[1;32m   2290\u001b[0m \u001b[39melse\u001b[39;00m:\n\u001b[1;32m   2291\u001b[0m     \u001b[39mraise\u001b[39;00m value\n",
      "\u001b[0;31mRayTaskError(TypeError)\u001b[0m: \u001b[36mray::evaluate_hyperparameters()\u001b[39m (pid=510347, ip=192.168.0.107)\n  File \"/tmp/ipykernel_509914/976435458.py\", line 6, in evaluate_hyperparameters\n  File \"/home/axelk/.local/lib/python3.10/site-packages/torch/optim/sgd.py\", line 96, in __init__\n    if lr is not required and lr < 0.0:\nTypeError: '<' not supported between instances of 'Float' and 'float'"
     ]
    },
    {
     "name": "stdout",
     "output_type": "stream",
     "text": [
      "\u001b[2m\u001b[36m(evaluate_hyperparameters pid=510347)\u001b[0m (15996, 3, 75, 100)\n",
      "\u001b[2m\u001b[36m(evaluate_hyperparameters pid=510347)\u001b[0m (15996, 4)\n",
      "\u001b[2m\u001b[36m(evaluate_hyperparameters pid=510347)\u001b[0m (15996, 3)\n",
      "\u001b[2m\u001b[36m(evaluate_hyperparameters pid=510347)\u001b[0m (2001, 3, 75, 100)\n",
      "\u001b[2m\u001b[36m(evaluate_hyperparameters pid=510347)\u001b[0m (2001, 4)\n",
      "\u001b[2m\u001b[36m(evaluate_hyperparameters pid=510347)\u001b[0m (2001, 3)\n"
     ]
    },
    {
     "name": "stderr",
     "output_type": "stream",
     "text": [
      "2022-12-11 16:27:12,532\tERROR worker.py:400 -- Unhandled error (suppress with 'RAY_IGNORE_UNHANDLED_ERRORS=1'): \u001b[36mray::evaluate_hyperparameters()\u001b[39m (pid=510347, ip=192.168.0.107)\n",
      "  File \"/tmp/ipykernel_509914/976435458.py\", line 6, in evaluate_hyperparameters\n",
      "  File \"/home/axelk/.local/lib/python3.10/site-packages/torch/optim/sgd.py\", line 96, in __init__\n",
      "    if lr is not required and lr < 0.0:\n",
      "TypeError: '<' not supported between instances of 'Float' and 'float'\n"
     ]
    },
    {
     "name": "stdout",
     "output_type": "stream",
     "text": [
      "\u001b[2m\u001b[36m(evaluate_hyperparameters pid=510347)\u001b[0m (15996, 3, 75, 100)\n",
      "\u001b[2m\u001b[36m(evaluate_hyperparameters pid=510347)\u001b[0m (15996, 4)\n",
      "\u001b[2m\u001b[36m(evaluate_hyperparameters pid=510347)\u001b[0m (15996, 3)\n",
      "\u001b[2m\u001b[36m(evaluate_hyperparameters pid=510347)\u001b[0m (2001, 3, 75, 100)\n",
      "\u001b[2m\u001b[36m(evaluate_hyperparameters pid=510347)\u001b[0m (2001, 4)\n",
      "\u001b[2m\u001b[36m(evaluate_hyperparameters pid=510347)\u001b[0m (2001, 3)\n",
      "\u001b[2m\u001b[36m(evaluate_hyperparameters pid=510347)\u001b[0m (15996, 3, 75, 100)\n",
      "\u001b[2m\u001b[36m(evaluate_hyperparameters pid=510347)\u001b[0m (15996, 4)\n",
      "\u001b[2m\u001b[36m(evaluate_hyperparameters pid=510347)\u001b[0m (15996, 3)\n"
     ]
    },
    {
     "name": "stderr",
     "output_type": "stream",
     "text": [
      "2022-12-11 16:27:18,533\tERROR worker.py:400 -- Unhandled error (suppress with 'RAY_IGNORE_UNHANDLED_ERRORS=1'): \u001b[36mray::evaluate_hyperparameters()\u001b[39m (pid=510347, ip=192.168.0.107)\n",
      "  File \"/tmp/ipykernel_509914/976435458.py\", line 6, in evaluate_hyperparameters\n",
      "  File \"/home/axelk/.local/lib/python3.10/site-packages/torch/optim/sgd.py\", line 96, in __init__\n",
      "    if lr is not required and lr < 0.0:\n",
      "TypeError: '<' not supported between instances of 'Float' and 'float'\n"
     ]
    },
    {
     "name": "stdout",
     "output_type": "stream",
     "text": [
      "\u001b[2m\u001b[36m(evaluate_hyperparameters pid=510347)\u001b[0m (2001, 3, 75, 100)\n",
      "\u001b[2m\u001b[36m(evaluate_hyperparameters pid=510347)\u001b[0m (2001, 4)\n",
      "\u001b[2m\u001b[36m(evaluate_hyperparameters pid=510347)\u001b[0m (2001, 3)\n",
      "\u001b[2m\u001b[36m(evaluate_hyperparameters pid=510347)\u001b[0m (15996, 3, 75, 100)\n",
      "\u001b[2m\u001b[36m(evaluate_hyperparameters pid=510347)\u001b[0m (15996, 4)\n",
      "\u001b[2m\u001b[36m(evaluate_hyperparameters pid=510347)\u001b[0m (15996, 3)\n"
     ]
    },
    {
     "name": "stderr",
     "output_type": "stream",
     "text": [
      "2022-12-11 16:27:23,533\tERROR worker.py:400 -- Unhandled error (suppress with 'RAY_IGNORE_UNHANDLED_ERRORS=1'): \u001b[36mray::evaluate_hyperparameters()\u001b[39m (pid=510347, ip=192.168.0.107)\n",
      "  File \"/tmp/ipykernel_509914/976435458.py\", line 6, in evaluate_hyperparameters\n",
      "  File \"/home/axelk/.local/lib/python3.10/site-packages/torch/optim/sgd.py\", line 96, in __init__\n",
      "    if lr is not required and lr < 0.0:\n",
      "TypeError: '<' not supported between instances of 'Float' and 'float'\n"
     ]
    },
    {
     "name": "stdout",
     "output_type": "stream",
     "text": [
      "\u001b[2m\u001b[36m(evaluate_hyperparameters pid=510347)\u001b[0m (2001, 3, 75, 100)\n",
      "\u001b[2m\u001b[36m(evaluate_hyperparameters pid=510347)\u001b[0m (2001, 4)\n",
      "\u001b[2m\u001b[36m(evaluate_hyperparameters pid=510347)\u001b[0m (2001, 3)\n",
      "\u001b[2m\u001b[36m(evaluate_hyperparameters pid=510347)\u001b[0m (15996, 3, 75, 100)\n",
      "\u001b[2m\u001b[36m(evaluate_hyperparameters pid=510347)\u001b[0m (15996, 4)\n",
      "\u001b[2m\u001b[36m(evaluate_hyperparameters pid=510347)\u001b[0m (15996, 3)\n",
      "\u001b[2m\u001b[36m(evaluate_hyperparameters pid=510347)\u001b[0m (2001, 3, 75, 100)\n",
      "\u001b[2m\u001b[36m(evaluate_hyperparameters pid=510347)\u001b[0m (2001, 4)\n",
      "\u001b[2m\u001b[36m(evaluate_hyperparameters pid=510347)\u001b[0m (2001, 3)\n"
     ]
    },
    {
     "name": "stderr",
     "output_type": "stream",
     "text": [
      "2022-12-11 16:27:29,534\tERROR worker.py:400 -- Unhandled error (suppress with 'RAY_IGNORE_UNHANDLED_ERRORS=1'): \u001b[36mray::evaluate_hyperparameters()\u001b[39m (pid=510347, ip=192.168.0.107)\n",
      "  File \"/tmp/ipykernel_509914/976435458.py\", line 6, in evaluate_hyperparameters\n",
      "  File \"/home/axelk/.local/lib/python3.10/site-packages/torch/optim/sgd.py\", line 96, in __init__\n",
      "    if lr is not required and lr < 0.0:\n",
      "TypeError: '<' not supported between instances of 'Float' and 'float'\n"
     ]
    },
    {
     "name": "stdout",
     "output_type": "stream",
     "text": [
      "\u001b[2m\u001b[36m(evaluate_hyperparameters pid=510347)\u001b[0m (15996, 3, 75, 100)\n",
      "\u001b[2m\u001b[36m(evaluate_hyperparameters pid=510347)\u001b[0m (15996, 4)\n",
      "\u001b[2m\u001b[36m(evaluate_hyperparameters pid=510347)\u001b[0m (15996, 3)\n"
     ]
    },
    {
     "name": "stderr",
     "output_type": "stream",
     "text": [
      "2022-12-11 16:27:34,534\tERROR worker.py:400 -- Unhandled error (suppress with 'RAY_IGNORE_UNHANDLED_ERRORS=1'): \u001b[36mray::evaluate_hyperparameters()\u001b[39m (pid=510347, ip=192.168.0.107)\n",
      "  File \"/tmp/ipykernel_509914/976435458.py\", line 6, in evaluate_hyperparameters\n",
      "  File \"/home/axelk/.local/lib/python3.10/site-packages/torch/optim/sgd.py\", line 96, in __init__\n",
      "    if lr is not required and lr < 0.0:\n",
      "TypeError: '<' not supported between instances of 'Float' and 'float'\n"
     ]
    },
    {
     "name": "stdout",
     "output_type": "stream",
     "text": [
      "\u001b[2m\u001b[36m(evaluate_hyperparameters pid=510347)\u001b[0m (2001, 3, 75, 100)\n",
      "\u001b[2m\u001b[36m(evaluate_hyperparameters pid=510347)\u001b[0m (2001, 4)\n",
      "\u001b[2m\u001b[36m(evaluate_hyperparameters pid=510347)\u001b[0m (2001, 3)\n",
      "\u001b[2m\u001b[36m(evaluate_hyperparameters pid=510347)\u001b[0m (15996, 3, 75, 100)\n",
      "\u001b[2m\u001b[36m(evaluate_hyperparameters pid=510347)\u001b[0m (15996, 4)\n",
      "\u001b[2m\u001b[36m(evaluate_hyperparameters pid=510347)\u001b[0m (15996, 3)\n"
     ]
    },
    {
     "name": "stderr",
     "output_type": "stream",
     "text": [
      "2022-12-11 16:27:39,535\tERROR worker.py:400 -- Unhandled error (suppress with 'RAY_IGNORE_UNHANDLED_ERRORS=1'): \u001b[36mray::evaluate_hyperparameters()\u001b[39m (pid=510347, ip=192.168.0.107)\n",
      "  File \"/tmp/ipykernel_509914/976435458.py\", line 6, in evaluate_hyperparameters\n",
      "  File \"/home/axelk/.local/lib/python3.10/site-packages/torch/optim/sgd.py\", line 96, in __init__\n",
      "    if lr is not required and lr < 0.0:\n",
      "TypeError: '<' not supported between instances of 'Float' and 'float'\n"
     ]
    },
    {
     "name": "stdout",
     "output_type": "stream",
     "text": [
      "\u001b[2m\u001b[36m(evaluate_hyperparameters pid=510347)\u001b[0m (2001, 3, 75, 100)\n",
      "\u001b[2m\u001b[36m(evaluate_hyperparameters pid=510347)\u001b[0m (2001, 4)\n",
      "\u001b[2m\u001b[36m(evaluate_hyperparameters pid=510347)\u001b[0m (2001, 3)\n"
     ]
    }
   ],
   "source": [
    "best_hyperparameters = None\n",
    "best_accuracy = 0.0\n",
    "remaining_ids = []\n",
    "hyperparameters_mapping = {}\n",
    "\n",
    "for i in range(num_evaluations):\n",
    "    hyperparameters = generate_hyperparameters()\n",
    "    accuracy_id = evaluate_hyperparameters.remote(hyperparameters)\n",
    "    remaining_ids.append(accuracy_id)\n",
    "    hyperparameters_mapping[accuracy_id] = hyperparameters\n",
    "\n",
    "while remaining_ids:\n",
    "    # Use ray.wait to get the object ref of the first task that completes.\n",
    "    done_ids, remaining_ids = ray.wait(remaining_ids)\n",
    "    # There is only one return result by default.\n",
    "    result_id = done_ids[0]\n",
    "\n",
    "    hyperparameters = hyperparameters_mapping[result_id]\n",
    "    accuracy = ray.get(result_id)\n",
    "    print(\n",
    "        \"\"\"We achieve accuracy {:.3}% with\n",
    "        learning_rate: {:.2}\n",
    "        batch_size: {}\n",
    "        momentum: {:.2}\n",
    "      \"\"\".format(\n",
    "            accuracy,\n",
    "            hyperparameters[\"learning_rate\"],\n",
    "            hyperparameters[\"batch_size\"],\n",
    "            hyperparameters[\"momentum\"],\n",
    "        )\n",
    "    )\n",
    "    if accuracy> best_accuracy:\n",
    "        best_hyperparameters = hyperparameters\n",
    "        best_accuracy = accuracy\n",
    "\n",
    "# Record the best performing set of hyperparameters.\n",
    "print(\n",
    "    \"\"\"Best accuracy over {} trials was {:.3} with\n",
    "      learning_rate: {:.2}\n",
    "      batch_size: {}\n",
    "      momentum: {:.2}\n",
    "      \"\"\".format(\n",
    "        num_evaluations,\n",
    "        100 * best_accuracy,\n",
    "        best_hyperparameters[\"learning_rate\"],\n",
    "        best_hyperparameters[\"batch_size\"],\n",
    "        best_hyperparameters[\"momentum\"],\n",
    "    )\n",
    ")"
   ]
  }
 ],
 "metadata": {
  "kernelspec": {
   "display_name": "Python 3.10.6 64-bit",
   "language": "python",
   "name": "python3"
  },
  "language_info": {
   "codemirror_mode": {
    "name": "ipython",
    "version": 3
   },
   "file_extension": ".py",
   "mimetype": "text/x-python",
   "name": "python",
   "nbconvert_exporter": "python",
   "pygments_lexer": "ipython3",
   "version": "3.10.6"
  },
  "orig_nbformat": 4,
  "vscode": {
   "interpreter": {
    "hash": "916dbcbb3f70747c44a77c7bcd40155683ae19c65e1c03b4aa3499c5328201f1"
   }
  }
 },
 "nbformat": 4,
 "nbformat_minor": 2
}
